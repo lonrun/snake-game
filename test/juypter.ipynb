{
 "cells": [
  {
   "cell_type": "code",
   "execution_count": null,
   "id": "50e9229b-0b37-4f73-8094-ed80147bb784",
   "metadata": {},
   "outputs": [],
   "source": [
    "%%python\n",
    "\n",
    "print(\"hhh\")"
   ]
  },
  {
   "cell_type": "code",
   "execution_count": 1,
   "id": "3174daa8-3f13-4ce9-aca3-c2685b8c2c37",
   "metadata": {},
   "outputs": [
    {
     "name": "stdout",
     "output_type": "stream",
     "text": [
      "/home/codespace/.python/current/bin/python\n"
     ]
    }
   ],
   "source": [
    "!which python"
   ]
  },
  {
   "cell_type": "code",
   "execution_count": 2,
   "id": "985f0c81-1301-45f4-9e96-b3def7b3592c",
   "metadata": {},
   "outputs": [
    {
     "name": "stdout",
     "output_type": "stream",
     "text": [
      "Python 3.10.8\n"
     ]
    }
   ],
   "source": [
    "!python -V"
   ]
  },
  {
   "cell_type": "code",
   "execution_count": 3,
   "id": "1f32897b-afea-452d-962d-41c951e532d2",
   "metadata": {},
   "outputs": [
    {
     "name": "stdout",
     "output_type": "stream",
     "text": [
      "Traceback (most recent call last):\n",
      "  File \"/workspaces/snake-game/test/../snake_simple.py\", line 13, in <module>\n",
      "    import pygame\n",
      "ModuleNotFoundError: No module named 'pygame'\n"
     ]
    }
   ],
   "source": [
    "!python ../snake_simple.py"
   ]
  }
 ],
 "metadata": {
  "kernelspec": {
   "display_name": "Python 3 (ipykernel)",
   "language": "python",
   "name": "python3"
  },
  "language_info": {
   "codemirror_mode": {
    "name": "ipython",
    "version": 3
   },
   "file_extension": ".py",
   "mimetype": "text/x-python",
   "name": "python",
   "nbconvert_exporter": "python",
   "pygments_lexer": "ipython3",
   "version": "3.10.8"
  }
 },
 "nbformat": 4,
 "nbformat_minor": 5
}
